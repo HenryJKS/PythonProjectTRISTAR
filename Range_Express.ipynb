{
 "cells": [
  {
   "cell_type": "code",
   "execution_count": 1,
   "id": "6ccc05ad",
   "metadata": {},
   "outputs": [],
   "source": [
    "import pandas as pd\n",
    "import re\n",
    "import numpy as np"
   ]
  },
  {
   "cell_type": "code",
   "execution_count": 2,
   "id": "13d56aee",
   "metadata": {},
   "outputs": [],
   "source": [
    "data_express = pd.read_excel('./Datas/Express.xlsx')\n",
    "data_shipments = pd.read_csv('./Datas/Shipments2.csv')\n",
    "pd.set_option('display.max_columns', None)\n",
    "pd.set_option('display.max_rows', None)"
   ]
  },
  {
   "cell_type": "markdown",
   "id": "52ee32b8",
   "metadata": {},
   "source": [
    "# Tratando Dados Shipments"
   ]
  },
  {
   "cell_type": "code",
   "execution_count": 3,
   "id": "f5acf5f5",
   "metadata": {},
   "outputs": [
    {
     "data": {
      "text/html": [
       "<div>\n",
       "<style scoped>\n",
       "    .dataframe tbody tr th:only-of-type {\n",
       "        vertical-align: middle;\n",
       "    }\n",
       "\n",
       "    .dataframe tbody tr th {\n",
       "        vertical-align: top;\n",
       "    }\n",
       "\n",
       "    .dataframe thead th {\n",
       "        text-align: right;\n",
       "    }\n",
       "</style>\n",
       "<table border=\"1\" class=\"dataframe\">\n",
       "  <thead>\n",
       "    <tr style=\"text-align: right;\">\n",
       "      <th></th>\n",
       "      <th>to_postcode</th>\n",
       "      <th>to_country_id</th>\n",
       "    </tr>\n",
       "  </thead>\n",
       "  <tbody>\n",
       "    <tr>\n",
       "      <th>0</th>\n",
       "      <td>00000000</td>\n",
       "      <td>32</td>\n",
       "    </tr>\n",
       "    <tr>\n",
       "      <th>1</th>\n",
       "      <td>00005-820</td>\n",
       "      <td>32</td>\n",
       "    </tr>\n",
       "    <tr>\n",
       "      <th>2</th>\n",
       "      <td>01031-970</td>\n",
       "      <td>32</td>\n",
       "    </tr>\n",
       "    <tr>\n",
       "      <th>3</th>\n",
       "      <td>01033001</td>\n",
       "      <td>64</td>\n",
       "    </tr>\n",
       "    <tr>\n",
       "      <th>4</th>\n",
       "      <td>01033-001</td>\n",
       "      <td>32</td>\n",
       "    </tr>\n",
       "  </tbody>\n",
       "</table>\n",
       "</div>"
      ],
      "text/plain": [
       "  to_postcode  to_country_id\n",
       "0    00000000             32\n",
       "1   00005-820             32\n",
       "2   01031-970             32\n",
       "3    01033001             64\n",
       "4   01033-001             32"
      ]
     },
     "execution_count": 3,
     "metadata": {},
     "output_type": "execute_result"
    }
   ],
   "source": [
    "data_shipments.head()"
   ]
  },
  {
   "cell_type": "code",
   "execution_count": 4,
   "id": "450e3825",
   "metadata": {},
   "outputs": [],
   "source": [
    "data_shipments = data_shipments.rename(columns = {'to_postcode' : 'CEP'})"
   ]
  },
  {
   "cell_type": "code",
   "execution_count": 5,
   "id": "65e1bff4",
   "metadata": {},
   "outputs": [
    {
     "data": {
      "text/html": [
       "<div>\n",
       "<style scoped>\n",
       "    .dataframe tbody tr th:only-of-type {\n",
       "        vertical-align: middle;\n",
       "    }\n",
       "\n",
       "    .dataframe tbody tr th {\n",
       "        vertical-align: top;\n",
       "    }\n",
       "\n",
       "    .dataframe thead th {\n",
       "        text-align: right;\n",
       "    }\n",
       "</style>\n",
       "<table border=\"1\" class=\"dataframe\">\n",
       "  <thead>\n",
       "    <tr style=\"text-align: right;\">\n",
       "      <th></th>\n",
       "      <th>CEP</th>\n",
       "      <th>to_country_id</th>\n",
       "    </tr>\n",
       "  </thead>\n",
       "  <tbody>\n",
       "    <tr>\n",
       "      <th>0</th>\n",
       "      <td>00000000</td>\n",
       "      <td>32</td>\n",
       "    </tr>\n",
       "    <tr>\n",
       "      <th>1</th>\n",
       "      <td>00005-820</td>\n",
       "      <td>32</td>\n",
       "    </tr>\n",
       "    <tr>\n",
       "      <th>2</th>\n",
       "      <td>01031-970</td>\n",
       "      <td>32</td>\n",
       "    </tr>\n",
       "    <tr>\n",
       "      <th>3</th>\n",
       "      <td>01033001</td>\n",
       "      <td>64</td>\n",
       "    </tr>\n",
       "    <tr>\n",
       "      <th>4</th>\n",
       "      <td>01033-001</td>\n",
       "      <td>32</td>\n",
       "    </tr>\n",
       "  </tbody>\n",
       "</table>\n",
       "</div>"
      ],
      "text/plain": [
       "         CEP  to_country_id\n",
       "0   00000000             32\n",
       "1  00005-820             32\n",
       "2  01031-970             32\n",
       "3   01033001             64\n",
       "4  01033-001             32"
      ]
     },
     "execution_count": 5,
     "metadata": {},
     "output_type": "execute_result"
    }
   ],
   "source": [
    "data_shipments.head()"
   ]
  },
  {
   "cell_type": "code",
   "execution_count": 6,
   "id": "d7fd6363",
   "metadata": {},
   "outputs": [],
   "source": [
    "data_shipments['CEP'] = data_shipments['CEP'].replace(to_replace=r'\\D+', value = '', regex = True)"
   ]
  },
  {
   "cell_type": "code",
   "execution_count": 7,
   "id": "417223a9",
   "metadata": {},
   "outputs": [
    {
     "data": {
      "text/html": [
       "<div>\n",
       "<style scoped>\n",
       "    .dataframe tbody tr th:only-of-type {\n",
       "        vertical-align: middle;\n",
       "    }\n",
       "\n",
       "    .dataframe tbody tr th {\n",
       "        vertical-align: top;\n",
       "    }\n",
       "\n",
       "    .dataframe thead th {\n",
       "        text-align: right;\n",
       "    }\n",
       "</style>\n",
       "<table border=\"1\" class=\"dataframe\">\n",
       "  <thead>\n",
       "    <tr style=\"text-align: right;\">\n",
       "      <th></th>\n",
       "      <th>CEP</th>\n",
       "      <th>to_country_id</th>\n",
       "    </tr>\n",
       "  </thead>\n",
       "  <tbody>\n",
       "    <tr>\n",
       "      <th>0</th>\n",
       "      <td>00000000</td>\n",
       "      <td>32</td>\n",
       "    </tr>\n",
       "    <tr>\n",
       "      <th>1</th>\n",
       "      <td>00005820</td>\n",
       "      <td>32</td>\n",
       "    </tr>\n",
       "    <tr>\n",
       "      <th>2</th>\n",
       "      <td>01031970</td>\n",
       "      <td>32</td>\n",
       "    </tr>\n",
       "    <tr>\n",
       "      <th>3</th>\n",
       "      <td>01033001</td>\n",
       "      <td>64</td>\n",
       "    </tr>\n",
       "    <tr>\n",
       "      <th>4</th>\n",
       "      <td>01033001</td>\n",
       "      <td>32</td>\n",
       "    </tr>\n",
       "  </tbody>\n",
       "</table>\n",
       "</div>"
      ],
      "text/plain": [
       "        CEP  to_country_id\n",
       "0  00000000             32\n",
       "1  00005820             32\n",
       "2  01031970             32\n",
       "3  01033001             64\n",
       "4  01033001             32"
      ]
     },
     "execution_count": 7,
     "metadata": {},
     "output_type": "execute_result"
    }
   ],
   "source": [
    "data_shipments.head()"
   ]
  },
  {
   "cell_type": "code",
   "execution_count": 8,
   "id": "701a0e45",
   "metadata": {},
   "outputs": [],
   "source": [
    "data_shipments = data_shipments.loc[data_shipments['to_country_id'] == 32]"
   ]
  },
  {
   "cell_type": "code",
   "execution_count": 9,
   "id": "0ada80ca",
   "metadata": {},
   "outputs": [
    {
     "data": {
      "text/html": [
       "<div>\n",
       "<style scoped>\n",
       "    .dataframe tbody tr th:only-of-type {\n",
       "        vertical-align: middle;\n",
       "    }\n",
       "\n",
       "    .dataframe tbody tr th {\n",
       "        vertical-align: top;\n",
       "    }\n",
       "\n",
       "    .dataframe thead th {\n",
       "        text-align: right;\n",
       "    }\n",
       "</style>\n",
       "<table border=\"1\" class=\"dataframe\">\n",
       "  <thead>\n",
       "    <tr style=\"text-align: right;\">\n",
       "      <th></th>\n",
       "      <th>CEP</th>\n",
       "      <th>to_country_id</th>\n",
       "    </tr>\n",
       "  </thead>\n",
       "  <tbody>\n",
       "    <tr>\n",
       "      <th>0</th>\n",
       "      <td>00000000</td>\n",
       "      <td>32</td>\n",
       "    </tr>\n",
       "    <tr>\n",
       "      <th>1</th>\n",
       "      <td>00005820</td>\n",
       "      <td>32</td>\n",
       "    </tr>\n",
       "    <tr>\n",
       "      <th>2</th>\n",
       "      <td>01031970</td>\n",
       "      <td>32</td>\n",
       "    </tr>\n",
       "    <tr>\n",
       "      <th>4</th>\n",
       "      <td>01033001</td>\n",
       "      <td>32</td>\n",
       "    </tr>\n",
       "    <tr>\n",
       "      <th>7</th>\n",
       "      <td>01041000</td>\n",
       "      <td>32</td>\n",
       "    </tr>\n",
       "  </tbody>\n",
       "</table>\n",
       "</div>"
      ],
      "text/plain": [
       "        CEP  to_country_id\n",
       "0  00000000             32\n",
       "1  00005820             32\n",
       "2  01031970             32\n",
       "4  01033001             32\n",
       "7  01041000             32"
      ]
     },
     "execution_count": 9,
     "metadata": {},
     "output_type": "execute_result"
    }
   ],
   "source": [
    "data_shipments.head()"
   ]
  },
  {
   "cell_type": "code",
   "execution_count": 10,
   "id": "2f51148f",
   "metadata": {},
   "outputs": [],
   "source": [
    "data_shipments = data_shipments.reset_index(drop = True)"
   ]
  },
  {
   "cell_type": "code",
   "execution_count": 11,
   "id": "c0a61c2c",
   "metadata": {},
   "outputs": [
    {
     "data": {
      "text/html": [
       "<div>\n",
       "<style scoped>\n",
       "    .dataframe tbody tr th:only-of-type {\n",
       "        vertical-align: middle;\n",
       "    }\n",
       "\n",
       "    .dataframe tbody tr th {\n",
       "        vertical-align: top;\n",
       "    }\n",
       "\n",
       "    .dataframe thead th {\n",
       "        text-align: right;\n",
       "    }\n",
       "</style>\n",
       "<table border=\"1\" class=\"dataframe\">\n",
       "  <thead>\n",
       "    <tr style=\"text-align: right;\">\n",
       "      <th></th>\n",
       "      <th>CEP</th>\n",
       "      <th>to_country_id</th>\n",
       "    </tr>\n",
       "  </thead>\n",
       "  <tbody>\n",
       "    <tr>\n",
       "      <th>0</th>\n",
       "      <td>00000000</td>\n",
       "      <td>32</td>\n",
       "    </tr>\n",
       "    <tr>\n",
       "      <th>1</th>\n",
       "      <td>00005820</td>\n",
       "      <td>32</td>\n",
       "    </tr>\n",
       "    <tr>\n",
       "      <th>2</th>\n",
       "      <td>01031970</td>\n",
       "      <td>32</td>\n",
       "    </tr>\n",
       "    <tr>\n",
       "      <th>3</th>\n",
       "      <td>01033001</td>\n",
       "      <td>32</td>\n",
       "    </tr>\n",
       "    <tr>\n",
       "      <th>4</th>\n",
       "      <td>01041000</td>\n",
       "      <td>32</td>\n",
       "    </tr>\n",
       "  </tbody>\n",
       "</table>\n",
       "</div>"
      ],
      "text/plain": [
       "        CEP  to_country_id\n",
       "0  00000000             32\n",
       "1  00005820             32\n",
       "2  01031970             32\n",
       "3  01033001             32\n",
       "4  01041000             32"
      ]
     },
     "execution_count": 11,
     "metadata": {},
     "output_type": "execute_result"
    }
   ],
   "source": [
    "data_shipments.head()"
   ]
  },
  {
   "cell_type": "code",
   "execution_count": 12,
   "id": "c96d2224",
   "metadata": {},
   "outputs": [],
   "source": [
    "data_shipments['CEP'] = data_shipments['CEP'].str.strip()"
   ]
  },
  {
   "cell_type": "code",
   "execution_count": 13,
   "id": "c5352ab1",
   "metadata": {},
   "outputs": [],
   "source": [
    "data_shipments['CEP'] = data_shipments['CEP'].replace('', np.nan)"
   ]
  },
  {
   "cell_type": "code",
   "execution_count": 14,
   "id": "cbbae98c",
   "metadata": {},
   "outputs": [],
   "source": [
    "valor_padrao = 0\n",
    "data_shipments = data_shipments.fillna(valor_padrao)"
   ]
  },
  {
   "cell_type": "code",
   "execution_count": 15,
   "id": "af3a73b5",
   "metadata": {},
   "outputs": [
    {
     "data": {
      "text/html": [
       "<div>\n",
       "<style scoped>\n",
       "    .dataframe tbody tr th:only-of-type {\n",
       "        vertical-align: middle;\n",
       "    }\n",
       "\n",
       "    .dataframe tbody tr th {\n",
       "        vertical-align: top;\n",
       "    }\n",
       "\n",
       "    .dataframe thead th {\n",
       "        text-align: right;\n",
       "    }\n",
       "</style>\n",
       "<table border=\"1\" class=\"dataframe\">\n",
       "  <thead>\n",
       "    <tr style=\"text-align: right;\">\n",
       "      <th></th>\n",
       "      <th>CEP</th>\n",
       "      <th>to_country_id</th>\n",
       "    </tr>\n",
       "  </thead>\n",
       "  <tbody>\n",
       "    <tr>\n",
       "      <th>11505</th>\n",
       "      <td>0</td>\n",
       "      <td>32</td>\n",
       "    </tr>\n",
       "  </tbody>\n",
       "</table>\n",
       "</div>"
      ],
      "text/plain": [
       "      CEP  to_country_id\n",
       "11505   0             32"
      ]
     },
     "execution_count": 15,
     "metadata": {},
     "output_type": "execute_result"
    }
   ],
   "source": [
    "data_shipments.loc[data_shipments['CEP'] == 0]"
   ]
  },
  {
   "cell_type": "code",
   "execution_count": 16,
   "id": "927ca158",
   "metadata": {},
   "outputs": [
    {
     "data": {
      "text/plain": [
       "CEP              object\n",
       "to_country_id     int64\n",
       "dtype: object"
      ]
     },
     "execution_count": 16,
     "metadata": {},
     "output_type": "execute_result"
    }
   ],
   "source": [
    "data_shipments.dtypes"
   ]
  },
  {
   "cell_type": "markdown",
   "id": "e0a571d7",
   "metadata": {},
   "source": [
    "# Tratando dados Express"
   ]
  },
  {
   "cell_type": "code",
   "execution_count": 17,
   "id": "d4b6a08d",
   "metadata": {},
   "outputs": [
    {
     "data": {
      "text/html": [
       "<div>\n",
       "<style scoped>\n",
       "    .dataframe tbody tr th:only-of-type {\n",
       "        vertical-align: middle;\n",
       "    }\n",
       "\n",
       "    .dataframe tbody tr th {\n",
       "        vertical-align: top;\n",
       "    }\n",
       "\n",
       "    .dataframe thead th {\n",
       "        text-align: right;\n",
       "    }\n",
       "</style>\n",
       "<table border=\"1\" class=\"dataframe\">\n",
       "  <thead>\n",
       "    <tr style=\"text-align: right;\">\n",
       "      <th></th>\n",
       "      <th>CEP INI</th>\n",
       "      <th>CEP FIN</th>\n",
       "      <th>NOME COBERTURA</th>\n",
       "      <th>UF</th>\n",
       "      <th>FRANQUIA</th>\n",
       "      <th>EXPRESSO</th>\n",
       "    </tr>\n",
       "  </thead>\n",
       "  <tbody>\n",
       "    <tr>\n",
       "      <th>0</th>\n",
       "      <td>16800000</td>\n",
       "      <td>16849999</td>\n",
       "      <td>MIRANDOPOLIS</td>\n",
       "      <td>SP</td>\n",
       "      <td>AAN</td>\n",
       "      <td>ATENDIDO</td>\n",
       "    </tr>\n",
       "    <tr>\n",
       "      <th>1</th>\n",
       "      <td>16900001</td>\n",
       "      <td>16905265</td>\n",
       "      <td>ANDRADINA</td>\n",
       "      <td>SP</td>\n",
       "      <td>AAN</td>\n",
       "      <td>ATENDIDO</td>\n",
       "    </tr>\n",
       "    <tr>\n",
       "      <th>2</th>\n",
       "      <td>16920000</td>\n",
       "      <td>16939999</td>\n",
       "      <td>CASTILHO</td>\n",
       "      <td>SP</td>\n",
       "      <td>AAN</td>\n",
       "      <td>ATENDIDO</td>\n",
       "    </tr>\n",
       "    <tr>\n",
       "      <th>3</th>\n",
       "      <td>16950000</td>\n",
       "      <td>16979999</td>\n",
       "      <td>MURUTINGA DO SUL</td>\n",
       "      <td>SP</td>\n",
       "      <td>AAN</td>\n",
       "      <td>ATENDIDO</td>\n",
       "    </tr>\n",
       "    <tr>\n",
       "      <th>4</th>\n",
       "      <td>16980000</td>\n",
       "      <td>16999999</td>\n",
       "      <td>GUARACAI</td>\n",
       "      <td>SP</td>\n",
       "      <td>AAN</td>\n",
       "      <td>ATENDIDO</td>\n",
       "    </tr>\n",
       "  </tbody>\n",
       "</table>\n",
       "</div>"
      ],
      "text/plain": [
       "    CEP INI   CEP FIN    NOME COBERTURA  UF FRANQUIA  EXPRESSO\n",
       "0  16800000  16849999      MIRANDOPOLIS  SP      AAN  ATENDIDO\n",
       "1  16900001  16905265         ANDRADINA  SP      AAN  ATENDIDO\n",
       "2  16920000  16939999          CASTILHO  SP      AAN  ATENDIDO\n",
       "3  16950000  16979999  MURUTINGA DO SUL  SP      AAN  ATENDIDO\n",
       "4  16980000  16999999          GUARACAI  SP      AAN  ATENDIDO"
      ]
     },
     "execution_count": 17,
     "metadata": {},
     "output_type": "execute_result"
    }
   ],
   "source": [
    "data_express.head()"
   ]
  },
  {
   "cell_type": "code",
   "execution_count": 19,
   "id": "dec67733",
   "metadata": {},
   "outputs": [],
   "source": [
    "data_express = data_express.rename(columns = {'CEP INI' : 'CEP_INI'})\n",
    "data_express = data_express.rename(columns = {'CEP FIN' : 'CEP_FIN'})"
   ]
  },
  {
   "cell_type": "code",
   "execution_count": 20,
   "id": "1b343ed6",
   "metadata": {},
   "outputs": [
    {
     "data": {
      "text/html": [
       "<div>\n",
       "<style scoped>\n",
       "    .dataframe tbody tr th:only-of-type {\n",
       "        vertical-align: middle;\n",
       "    }\n",
       "\n",
       "    .dataframe tbody tr th {\n",
       "        vertical-align: top;\n",
       "    }\n",
       "\n",
       "    .dataframe thead th {\n",
       "        text-align: right;\n",
       "    }\n",
       "</style>\n",
       "<table border=\"1\" class=\"dataframe\">\n",
       "  <thead>\n",
       "    <tr style=\"text-align: right;\">\n",
       "      <th></th>\n",
       "      <th>CEP_INI</th>\n",
       "      <th>CEP_FIN</th>\n",
       "      <th>NOME COBERTURA</th>\n",
       "      <th>UF</th>\n",
       "      <th>FRANQUIA</th>\n",
       "      <th>EXPRESSO</th>\n",
       "    </tr>\n",
       "  </thead>\n",
       "  <tbody>\n",
       "    <tr>\n",
       "      <th>0</th>\n",
       "      <td>16800000</td>\n",
       "      <td>16849999</td>\n",
       "      <td>MIRANDOPOLIS</td>\n",
       "      <td>SP</td>\n",
       "      <td>AAN</td>\n",
       "      <td>ATENDIDO</td>\n",
       "    </tr>\n",
       "    <tr>\n",
       "      <th>1</th>\n",
       "      <td>16900001</td>\n",
       "      <td>16905265</td>\n",
       "      <td>ANDRADINA</td>\n",
       "      <td>SP</td>\n",
       "      <td>AAN</td>\n",
       "      <td>ATENDIDO</td>\n",
       "    </tr>\n",
       "    <tr>\n",
       "      <th>2</th>\n",
       "      <td>16920000</td>\n",
       "      <td>16939999</td>\n",
       "      <td>CASTILHO</td>\n",
       "      <td>SP</td>\n",
       "      <td>AAN</td>\n",
       "      <td>ATENDIDO</td>\n",
       "    </tr>\n",
       "    <tr>\n",
       "      <th>3</th>\n",
       "      <td>16950000</td>\n",
       "      <td>16979999</td>\n",
       "      <td>MURUTINGA DO SUL</td>\n",
       "      <td>SP</td>\n",
       "      <td>AAN</td>\n",
       "      <td>ATENDIDO</td>\n",
       "    </tr>\n",
       "    <tr>\n",
       "      <th>4</th>\n",
       "      <td>16980000</td>\n",
       "      <td>16999999</td>\n",
       "      <td>GUARACAI</td>\n",
       "      <td>SP</td>\n",
       "      <td>AAN</td>\n",
       "      <td>ATENDIDO</td>\n",
       "    </tr>\n",
       "  </tbody>\n",
       "</table>\n",
       "</div>"
      ],
      "text/plain": [
       "    CEP_INI   CEP_FIN    NOME COBERTURA  UF FRANQUIA  EXPRESSO\n",
       "0  16800000  16849999      MIRANDOPOLIS  SP      AAN  ATENDIDO\n",
       "1  16900001  16905265         ANDRADINA  SP      AAN  ATENDIDO\n",
       "2  16920000  16939999          CASTILHO  SP      AAN  ATENDIDO\n",
       "3  16950000  16979999  MURUTINGA DO SUL  SP      AAN  ATENDIDO\n",
       "4  16980000  16999999          GUARACAI  SP      AAN  ATENDIDO"
      ]
     },
     "execution_count": 20,
     "metadata": {},
     "output_type": "execute_result"
    }
   ],
   "source": [
    "data_express.head()"
   ]
  },
  {
   "cell_type": "code",
   "execution_count": 21,
   "id": "5a195f6f",
   "metadata": {},
   "outputs": [],
   "source": [
    "data_express['CEP_RANGE'] = [list(range(CEP_INI, CEP_FIN + 1)) for CEP_INI, CEP_FIN in zip(data_express['CEP_INI'], data_express['CEP_FIN'])]"
   ]
  },
  {
   "cell_type": "code",
   "execution_count": 22,
   "id": "e3303d6a",
   "metadata": {},
   "outputs": [
    {
     "data": {
      "text/html": [
       "<div>\n",
       "<style scoped>\n",
       "    .dataframe tbody tr th:only-of-type {\n",
       "        vertical-align: middle;\n",
       "    }\n",
       "\n",
       "    .dataframe tbody tr th {\n",
       "        vertical-align: top;\n",
       "    }\n",
       "\n",
       "    .dataframe thead th {\n",
       "        text-align: right;\n",
       "    }\n",
       "</style>\n",
       "<table border=\"1\" class=\"dataframe\">\n",
       "  <thead>\n",
       "    <tr style=\"text-align: right;\">\n",
       "      <th></th>\n",
       "      <th>CEP_INI</th>\n",
       "      <th>CEP_FIN</th>\n",
       "      <th>NOME COBERTURA</th>\n",
       "      <th>UF</th>\n",
       "      <th>FRANQUIA</th>\n",
       "      <th>EXPRESSO</th>\n",
       "      <th>CEP_RANGE</th>\n",
       "    </tr>\n",
       "  </thead>\n",
       "  <tbody>\n",
       "    <tr>\n",
       "      <th>0</th>\n",
       "      <td>16800000</td>\n",
       "      <td>16849999</td>\n",
       "      <td>MIRANDOPOLIS</td>\n",
       "      <td>SP</td>\n",
       "      <td>AAN</td>\n",
       "      <td>ATENDIDO</td>\n",
       "      <td>[16800000, 16800001, 16800002, 16800003, 16800...</td>\n",
       "    </tr>\n",
       "    <tr>\n",
       "      <th>1</th>\n",
       "      <td>16900001</td>\n",
       "      <td>16905265</td>\n",
       "      <td>ANDRADINA</td>\n",
       "      <td>SP</td>\n",
       "      <td>AAN</td>\n",
       "      <td>ATENDIDO</td>\n",
       "      <td>[16900001, 16900002, 16900003, 16900004, 16900...</td>\n",
       "    </tr>\n",
       "    <tr>\n",
       "      <th>2</th>\n",
       "      <td>16920000</td>\n",
       "      <td>16939999</td>\n",
       "      <td>CASTILHO</td>\n",
       "      <td>SP</td>\n",
       "      <td>AAN</td>\n",
       "      <td>ATENDIDO</td>\n",
       "      <td>[16920000, 16920001, 16920002, 16920003, 16920...</td>\n",
       "    </tr>\n",
       "    <tr>\n",
       "      <th>3</th>\n",
       "      <td>16950000</td>\n",
       "      <td>16979999</td>\n",
       "      <td>MURUTINGA DO SUL</td>\n",
       "      <td>SP</td>\n",
       "      <td>AAN</td>\n",
       "      <td>ATENDIDO</td>\n",
       "      <td>[16950000, 16950001, 16950002, 16950003, 16950...</td>\n",
       "    </tr>\n",
       "    <tr>\n",
       "      <th>4</th>\n",
       "      <td>16980000</td>\n",
       "      <td>16999999</td>\n",
       "      <td>GUARACAI</td>\n",
       "      <td>SP</td>\n",
       "      <td>AAN</td>\n",
       "      <td>ATENDIDO</td>\n",
       "      <td>[16980000, 16980001, 16980002, 16980003, 16980...</td>\n",
       "    </tr>\n",
       "  </tbody>\n",
       "</table>\n",
       "</div>"
      ],
      "text/plain": [
       "    CEP_INI   CEP_FIN    NOME COBERTURA  UF FRANQUIA  EXPRESSO  \\\n",
       "0  16800000  16849999      MIRANDOPOLIS  SP      AAN  ATENDIDO   \n",
       "1  16900001  16905265         ANDRADINA  SP      AAN  ATENDIDO   \n",
       "2  16920000  16939999          CASTILHO  SP      AAN  ATENDIDO   \n",
       "3  16950000  16979999  MURUTINGA DO SUL  SP      AAN  ATENDIDO   \n",
       "4  16980000  16999999          GUARACAI  SP      AAN  ATENDIDO   \n",
       "\n",
       "                                           CEP_RANGE  \n",
       "0  [16800000, 16800001, 16800002, 16800003, 16800...  \n",
       "1  [16900001, 16900002, 16900003, 16900004, 16900...  \n",
       "2  [16920000, 16920001, 16920002, 16920003, 16920...  \n",
       "3  [16950000, 16950001, 16950002, 16950003, 16950...  \n",
       "4  [16980000, 16980001, 16980002, 16980003, 16980...  "
      ]
     },
     "execution_count": 22,
     "metadata": {},
     "output_type": "execute_result"
    }
   ],
   "source": [
    "data_express.head()"
   ]
  },
  {
   "cell_type": "code",
   "execution_count": 23,
   "id": "1a64fc7f",
   "metadata": {},
   "outputs": [],
   "source": [
    "# Criando as Lista para CEP (Shipments) e CEP_RANGE (Express)"
   ]
  },
  {
   "cell_type": "code",
   "execution_count": 24,
   "id": "e8807ed4",
   "metadata": {},
   "outputs": [],
   "source": [
    "express_cep_range = data_express['CEP_RANGE'].explode().tolist()"
   ]
  },
  {
   "cell_type": "code",
   "execution_count": 28,
   "id": "169b45bb",
   "metadata": {},
   "outputs": [
    {
     "data": {
      "text/plain": [
       "16800001"
      ]
     },
     "execution_count": 28,
     "metadata": {},
     "output_type": "execute_result"
    }
   ],
   "source": [
    "express_cep_range[1]"
   ]
  },
  {
   "cell_type": "code",
   "execution_count": 32,
   "id": "b396001b",
   "metadata": {},
   "outputs": [],
   "source": [
    "express_cep_range = list(map(str, express_cep_range))"
   ]
  },
  {
   "cell_type": "code",
   "execution_count": 33,
   "id": "5f7f43c7",
   "metadata": {},
   "outputs": [
    {
     "data": {
      "text/plain": [
       "'16800001'"
      ]
     },
     "execution_count": 33,
     "metadata": {},
     "output_type": "execute_result"
    }
   ],
   "source": [
    "express_cep_range[1]"
   ]
  },
  {
   "cell_type": "code",
   "execution_count": 34,
   "id": "5c24972c",
   "metadata": {},
   "outputs": [],
   "source": [
    "shipments_cep = data_shipments['CEP'].explode().tolist()"
   ]
  },
  {
   "cell_type": "code",
   "execution_count": 35,
   "id": "4b7d9358",
   "metadata": {},
   "outputs": [
    {
     "data": {
      "text/plain": [
       "'00005820'"
      ]
     },
     "execution_count": 35,
     "metadata": {},
     "output_type": "execute_result"
    }
   ],
   "source": [
    "shipments_cep[1]"
   ]
  },
  {
   "cell_type": "markdown",
   "id": "0defb55c",
   "metadata": {},
   "source": [
    "### Verificando os CEPs Shipments com CEPs Express"
   ]
  },
  {
   "cell_type": "code",
   "execution_count": 36,
   "id": "b2d8c9ba",
   "metadata": {},
   "outputs": [],
   "source": [
    "#Otimziando busca de dados\n",
    "express_cep_range_set = set(express_cep_range)\n",
    "shipments_cep_set = set(shipments_cep)"
   ]
  },
  {
   "cell_type": "code",
   "execution_count": 40,
   "id": "827076e9",
   "metadata": {},
   "outputs": [
    {
     "data": {
      "text/plain": [
       "51801245"
      ]
     },
     "execution_count": 40,
     "metadata": {},
     "output_type": "execute_result"
    }
   ],
   "source": [
    "len(express_cep_range)"
   ]
  },
  {
   "cell_type": "code",
   "execution_count": 41,
   "id": "8c1a0616",
   "metadata": {},
   "outputs": [
    {
     "data": {
      "text/plain": [
       "51801245"
      ]
     },
     "execution_count": 41,
     "metadata": {},
     "output_type": "execute_result"
    }
   ],
   "source": [
    "len(express_cep_range_set)"
   ]
  },
  {
   "cell_type": "code",
   "execution_count": 42,
   "id": "4b552d0b",
   "metadata": {},
   "outputs": [
    {
     "data": {
      "text/plain": [
       "11506"
      ]
     },
     "execution_count": 42,
     "metadata": {},
     "output_type": "execute_result"
    }
   ],
   "source": [
    "len(shipments_cep)"
   ]
  },
  {
   "cell_type": "code",
   "execution_count": 43,
   "id": "1169d201",
   "metadata": {},
   "outputs": [
    {
     "data": {
      "text/plain": [
       "11070"
      ]
     },
     "execution_count": 43,
     "metadata": {},
     "output_type": "execute_result"
    }
   ],
   "source": [
    "len(shipments_cep_set)"
   ]
  },
  {
   "cell_type": "code",
   "execution_count": 44,
   "id": "4385e2ed",
   "metadata": {},
   "outputs": [],
   "source": [
    "valor_comparar = 0\n",
    "for valor in shipments_cep_set:\n",
    "    if valor in express_cep_range_set:\n",
    "        valor_comparar += 1"
   ]
  },
  {
   "cell_type": "code",
   "execution_count": 47,
   "id": "67b1a941",
   "metadata": {},
   "outputs": [],
   "source": [
    "porcentagem = round((valor_comparar / len(shipments_cep_set)) * 100,2)"
   ]
  },
  {
   "cell_type": "code",
   "execution_count": 48,
   "id": "33a0a265",
   "metadata": {},
   "outputs": [
    {
     "data": {
      "text/plain": [
       "68.55"
      ]
     },
     "execution_count": 48,
     "metadata": {},
     "output_type": "execute_result"
    }
   ],
   "source": [
    "porcentagem"
   ]
  },
  {
   "cell_type": "code",
   "execution_count": 49,
   "id": "437c366f",
   "metadata": {},
   "outputs": [
    {
     "name": "stdout",
     "output_type": "stream",
     "text": [
      "A porcentagem estimada de CEPs Shipments dentro de CEPs Express é aprox. 68.55%\n"
     ]
    }
   ],
   "source": [
    "print(f'A porcentagem estimada de CEPs Shipments dentro de CEPs Express é aprox. {porcentagem}%')"
   ]
  },
  {
   "cell_type": "code",
   "execution_count": null,
   "id": "905a364c",
   "metadata": {},
   "outputs": [],
   "source": []
  }
 ],
 "metadata": {
  "kernelspec": {
   "display_name": "Python 3 (ipykernel)",
   "language": "python",
   "name": "python3"
  },
  "language_info": {
   "codemirror_mode": {
    "name": "ipython",
    "version": 3
   },
   "file_extension": ".py",
   "mimetype": "text/x-python",
   "name": "python",
   "nbconvert_exporter": "python",
   "pygments_lexer": "ipython3",
   "version": "3.10.11"
  }
 },
 "nbformat": 4,
 "nbformat_minor": 5
}
